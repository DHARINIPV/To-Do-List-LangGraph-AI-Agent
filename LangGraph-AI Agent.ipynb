{
 "cells": [
  {
   "cell_type": "markdown",
   "id": "8be0f85b",
   "metadata": {
    "height": 30
   },
   "source": [
    "# To-Do List AI Agent"
   ]
  },
  {
   "cell_type": "markdown",
   "id": "1532eafd",
   "metadata": {
    "height": 45
   },
   "source": [
    "This project is a simple, interactive AI agent built using LangGraph that helps users manage their to-do tasks via the command line. It uses LangGraph's stateful workflow design to continuously prompt the user, process input, and update a shared task list."
   ]
  },
  {
   "cell_type": "code",
   "execution_count": 1,
   "id": "b6b32a8d",
   "metadata": {
    "height": 98
   },
   "outputs": [],
   "source": [
    "import os\n",
    "from dotenv import load_dotenv\n",
    "from langchain.chat_models import ChatOpenAI\n",
    "from langgraph.graph import StateGraph, END\n",
    "from typing import TypedDict, Optional, List"
   ]
  },
  {
   "cell_type": "code",
   "execution_count": 2,
   "id": "8aa3d965",
   "metadata": {
    "height": 47
   },
   "outputs": [
    {
     "data": {
      "text/plain": [
       "False"
      ]
     },
     "execution_count": 2,
     "metadata": {},
     "output_type": "execute_result"
    }
   ],
   "source": [
    "# Load environment variables from .env file\n",
    "load_dotenv()"
   ]
  },
  {
   "cell_type": "code",
   "execution_count": 3,
   "id": "f3845762",
   "metadata": {
    "height": 251
   },
   "outputs": [
    {
     "name": "stderr",
     "output_type": "stream",
     "text": [
      "/usr/local/lib/python3.11/site-packages/langchain_core/_api/deprecation.py:119: LangChainDeprecationWarning: The class `ChatOpenAI` was deprecated in LangChain 0.0.10 and will be removed in 0.3.0. An updated version of the class exists in the langchain-openai package and should be used instead. To use it run `pip install -U langchain-openai` and import as `from langchain_openai import ChatOpenAI`.\n",
      "  warn_deprecated(\n"
     ]
    }
   ],
   "source": [
    "# Initialize the language model (LLM) — placeholder for future enhancements\n",
    "llm = ChatOpenAI(model=\"gpt-4\", temperature=0)\n",
    "\n",
    "Users can perform five main actions:\n",
    "\n",
    "-> Add new tasks\n",
    "\n",
    "-> List all tasks\n",
    "\n",
    "-> Mark tasks as completed\n",
    "\n",
    "-> Delete tasks\n",
    "\n",
    "-> Exit the agent"
   ]
  },
  {
   "cell_type": "code",
   "execution_count": 4,
   "id": "5d47e1a0",
   "metadata": {
    "height": 132
   },
   "outputs": [],
   "source": [
    "# Define the shape of the shared state across graph nodes\n",
    "class TaskState(TypedDict):\n",
    "    tasks: List[dict]            # List to store tasks with 'task' and 'completed' fields\n",
    "    message: Optional[str]       # Stores the current action (e.g., add, list, etc.)\n",
    "\n",
    "# This will store all tasks (shared outside LangGraph to allow modification)\n",
    "task_list = []"
   ]
  },
  {
   "cell_type": "markdown",
   "id": "74ebf188",
   "metadata": {
    "height": 98
   },
   "source": [
    "The core logic is built using two custom nodes:\n",
    "\n",
    "ask_action – prompts the user for input\n",
    "\n",
    "handle_action – processes the action and updates state"
   ]
  },
  {
   "cell_type": "code",
   "execution_count": 5,
   "id": "e1618323",
   "metadata": {
    "height": 132
   },
   "outputs": [],
   "source": [
    "# === NODE 1: Ask the user what action they want to perform ===\n",
    "def ask_action(state: TaskState):\n",
    "    print(\"\\nWhat would you like to do?\")\n",
    "    print(\"Options: add, list, complete, delete, exit\")\n",
    "    action = input(\"Action: \").lower()\n",
    "    state[\"message\"] = action  # Update state with user input\n",
    "    return state"
   ]
  },
  {
   "cell_type": "code",
   "execution_count": 6,
   "id": "5277ae14",
   "metadata": {
    "height": 744
   },
   "outputs": [],
   "source": [
    "# === NODE 2: Handle the user's action ===\n",
    "def handle_action(state: TaskState):\n",
    "    action = state[\"message\"]\n",
    "\n",
    "    if action == \"add\":\n",
    "        task = input(\"Enter the task: \")\n",
    "        task_list.append({\"task\": task, \"completed\": False})\n",
    "        print(f\"✅ Task added: {task}\")\n",
    "\n",
    "    elif action == \"list\":\n",
    "        if not task_list:\n",
    "            print(\"🗒 No tasks yet.\")\n",
    "        else:\n",
    "            for i, t in enumerate(task_list):\n",
    "                status = \"✅\" if t[\"completed\"] else \"⏳\"\n",
    "                print(f\"{i + 1}. {t['task']} - {status}\")\n",
    "\n",
    "    elif action == \"complete\":\n",
    "        index = int(input(\"Enter task number to complete: \")) - 1\n",
    "        if 0 <= index < len(task_list):\n",
    "            task_list[index][\"completed\"] = True\n",
    "            print(\"🎯 Task marked as complete.\")\n",
    "        else:\n",
    "            print(\"❌ Invalid task number.\")\n",
    "\n",
    "    elif action == \"delete\":\n",
    "        index = int(input(\"Enter task number to delete: \")) - 1\n",
    "        if 0 <= index < len(task_list):\n",
    "            removed = task_list.pop(index)\n",
    "            print(f\"🗑 Removed: {removed['task']}\")\n",
    "        else:\n",
    "            print(\"❌ Invalid task number.\")\n",
    "\n",
    "    elif action == \"exit\":\n",
    "        print(\"👋 Exiting Task Manager Agent.\")\n",
    "        # No need to call `exit()` anymore — we will handle the transition\n",
    "        state[\"message\"] = \"exit\"\n",
    "        return state\n",
    "\n",
    "    else:\n",
    "        print(\"❓ Unknown command. Try again.\")\n",
    "\n",
    "    return state"
   ]
  },
  {
   "cell_type": "markdown",
   "id": "b46970e1",
   "metadata": {
    "height": 30
   },
   "source": [
    "## Graph Construction with LangGraph"
   ]
  },
  {
   "cell_type": "markdown",
   "id": "4cc709eb",
   "metadata": {
    "height": 45
   },
   "source": [
    "The graph loops back to keep the agent running until the user exits, showcasing the LangGraph architecture of nodes, edges, and persistent state."
   ]
  },
  {
   "cell_type": "code",
   "execution_count": 7,
   "id": "1a4ed673",
   "metadata": {
    "height": 506
   },
   "outputs": [
    {
     "name": "stdout",
     "output_type": "stream",
     "text": [
      "\n",
      "What would you like to do?\n",
      "Options: add, list, complete, delete, exit\n",
      "Action: add\n",
      "Enter the task: Finish the LangGraph project\n",
      "✅ Task added: Finish the LangGraph project\n",
      "\n",
      "What would you like to do?\n",
      "Options: add, list, complete, delete, exit\n",
      "Action: add\n",
      "Enter the task: Submit for grading\n",
      "✅ Task added: Submit for grading\n",
      "\n",
      "What would you like to do?\n",
      "Options: add, list, complete, delete, exit\n",
      "Action: list\n",
      "1. Finish the LangGraph project - ⏳\n",
      "2. Submit for grading - ⏳\n",
      "\n",
      "What would you like to do?\n",
      "Options: add, list, complete, delete, exit\n",
      "Action: complete\n",
      "Enter task number to complete: 1\n",
      "🎯 Task marked as complete.\n",
      "\n",
      "What would you like to do?\n",
      "Options: add, list, complete, delete, exit\n",
      "Action: list\n",
      "1. Finish the LangGraph project - ✅\n",
      "2. Submit for grading - ⏳\n",
      "\n",
      "What would you like to do?\n",
      "Options: add, list, complete, delete, exit\n",
      "Action: complete\n",
      "Enter task number to complete: 2\n",
      "🎯 Task marked as complete.\n",
      "\n",
      "What would you like to do?\n",
      "Options: add, list, complete, delete, exit\n",
      "Action: list\n",
      "1. Finish the LangGraph project - ✅\n",
      "2. Submit for grading - ✅\n",
      "\n",
      "What would you like to do?\n",
      "Options: add, list, complete, delete, exit\n",
      "Action: exit\n",
      "👋 Exiting Task Manager Agent.\n"
     ]
    },
    {
     "data": {
      "text/plain": [
       "{'tasks': [], 'message': 'exit'}"
      ]
     },
     "execution_count": 7,
     "metadata": {},
     "output_type": "execute_result"
    }
   ],
   "source": [
    "# Initialize the LangGraph with the TaskState schema\n",
    "graph = StateGraph(TaskState)\n",
    "\n",
    "# Register custom nodes (functions)\n",
    "graph.add_node(\"ask_action\", ask_action)\n",
    "graph.add_node(\"handle_action\", handle_action)\n",
    "\n",
    "# Define the starting point of the agent\n",
    "graph.set_entry_point(\"ask_action\")\n",
    "\n",
    "# Define transitions (edges) between nodes\n",
    "graph.add_edge(\"ask_action\", \"handle_action\")\n",
    "\n",
    "# 🔁 Replace this line:\n",
    "# graph.add_edge(\"handle_action\", \"ask_action\")\n",
    "\n",
    "# ✅ With conditional exit logic:\n",
    "def next_node_selector(state: TaskState):\n",
    "    if state[\"message\"] == \"exit\":\n",
    "        return END\n",
    "    return \"ask_action\"\n",
    "\n",
    "graph.add_conditional_edges(\"handle_action\", next_node_selector)\n",
    "\n",
    "# Compile the graph into an executable agent\n",
    "agent = graph.compile()\n",
    "\n",
    "# Initial state passed to the agent\n",
    "agent.invoke({\"tasks\": []})"
   ]
  }
 ],
 "metadata": {
  "kernelspec": {
   "display_name": "Python 3 (ipykernel)",
   "language": "python",
   "name": "python3"
  },
  "language_info": {
   "codemirror_mode": {
    "name": "ipython",
    "version": 3
   },
   "file_extension": ".py",
   "mimetype": "text/x-python",
   "name": "python",
   "nbconvert_exporter": "python",
   "pygments_lexer": "ipython3",
   "version": "3.11.9"
  }
 },
 "nbformat": 4,
 "nbformat_minor": 5
}
